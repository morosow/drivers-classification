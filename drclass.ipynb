{
 "cells": [
  {
   "cell_type": "markdown",
   "metadata": {},
   "source": [
    "###### In this case, we have a very interesting problem: classification of an unbalanced data set with a large number of missing values.\n",
    "\n",
    "So there are two files:\n",
    "\n",
    "tracks - information about each ride\n",
    "os - phone operating system information\n",
    "\n"
   ]
  },
  {
   "cell_type": "markdown",
   "metadata": {},
   "source": [
    "Our goal is to predict whether the user was in the passenger seat or in the driver's seat. We also have a class 'taxi', which shows that the user called a taxi."
   ]
  },
  {
   "cell_type": "code",
   "execution_count": 1,
   "metadata": {},
   "outputs": [],
   "source": [
    "import numpy as np\n",
    "import pandas as pd\n",
    "import matplotlib.pyplot as plt\n",
    "\n",
    "from sklearn.experimental import enable_iterative_imputer \n",
    "from sklearn.impute import IterativeImputer\n",
    "\n",
    "from sklearn.preprocessing import MinMaxScaler\n",
    "\n",
    "from sklearn.model_selection import train_test_split, GridSearchCV, KFold\n",
    "from sklearn.ensemble import GradientBoostingClassifier, RandomForestClassifier, ExtraTreesClassifier\n",
    "from sklearn.metrics import balanced_accuracy_score, classification_report\n",
    "\n",
    "pd.options.display.max_columns = 100\n",
    "%matplotlib inline"
   ]
  },
  {
   "cell_type": "code",
   "execution_count": 2,
   "metadata": {},
   "outputs": [],
   "source": [
    "os = pd.read_csv('os.csv', sep=',', header=0)"
   ]
  },
  {
   "cell_type": "code",
   "execution_count": 3,
   "metadata": {},
   "outputs": [],
   "source": [
    "tracks = pd.read_csv('rich_tracks_2.csv', sep=',', header=0)"
   ]
  },
  {
   "cell_type": "markdown",
   "metadata": {},
   "source": [
    "### OS wrangling"
   ]
  },
  {
   "cell_type": "code",
   "execution_count": 4,
   "metadata": {},
   "outputs": [
    {
     "name": "stdout",
     "output_type": "stream",
     "text": [
      "<class 'pandas.core.frame.DataFrame'>\n",
      "RangeIndex: 4416 entries, 0 to 4415\n",
      "Columns: 2 entries, DeviceToken to os_version\n",
      "dtypes: object(2)\n",
      "memory usage: 69.1+ KB\n"
     ]
    }
   ],
   "source": [
    "os.info(verbose=False)"
   ]
  },
  {
   "cell_type": "code",
   "execution_count": 5,
   "metadata": {},
   "outputs": [
    {
     "data": {
      "text/html": [
       "<div>\n",
       "<style scoped>\n",
       "    .dataframe tbody tr th:only-of-type {\n",
       "        vertical-align: middle;\n",
       "    }\n",
       "\n",
       "    .dataframe tbody tr th {\n",
       "        vertical-align: top;\n",
       "    }\n",
       "\n",
       "    .dataframe thead th {\n",
       "        text-align: right;\n",
       "    }\n",
       "</style>\n",
       "<table border=\"1\" class=\"dataframe\">\n",
       "  <thead>\n",
       "    <tr style=\"text-align: right;\">\n",
       "      <th></th>\n",
       "      <th>DeviceToken</th>\n",
       "      <th>os_version</th>\n",
       "    </tr>\n",
       "  </thead>\n",
       "  <tbody>\n",
       "    <tr>\n",
       "      <th>0</th>\n",
       "      <td>2A768BE9-24E4-4274-AE30-03D07EE1D5B8</td>\n",
       "      <td>Android</td>\n",
       "    </tr>\n",
       "    <tr>\n",
       "      <th>1</th>\n",
       "      <td>CA447E48-E1C4-4F06-BA03-35C029C7E0F8</td>\n",
       "      <td>Android</td>\n",
       "    </tr>\n",
       "    <tr>\n",
       "      <th>2</th>\n",
       "      <td>EB26DDE2-8C75-439B-8FDA-AE838E15E944</td>\n",
       "      <td>iOS</td>\n",
       "    </tr>\n",
       "    <tr>\n",
       "      <th>3</th>\n",
       "      <td>3135D84F-1A08-4CBF-9439-D6C1BA58F4AA</td>\n",
       "      <td>iOS</td>\n",
       "    </tr>\n",
       "    <tr>\n",
       "      <th>4</th>\n",
       "      <td>16B59F05-9FEC-40DA-A181-C42B1AA2B517</td>\n",
       "      <td>Android</td>\n",
       "    </tr>\n",
       "  </tbody>\n",
       "</table>\n",
       "</div>"
      ],
      "text/plain": [
       "                            DeviceToken os_version\n",
       "0  2A768BE9-24E4-4274-AE30-03D07EE1D5B8    Android\n",
       "1  CA447E48-E1C4-4F06-BA03-35C029C7E0F8    Android\n",
       "2  EB26DDE2-8C75-439B-8FDA-AE838E15E944        iOS\n",
       "3  3135D84F-1A08-4CBF-9439-D6C1BA58F4AA        iOS\n",
       "4  16B59F05-9FEC-40DA-A181-C42B1AA2B517    Android"
      ]
     },
     "execution_count": 5,
     "metadata": {},
     "output_type": "execute_result"
    }
   ],
   "source": [
    "os.head()"
   ]
  },
  {
   "cell_type": "code",
   "execution_count": 6,
   "metadata": {},
   "outputs": [
    {
     "data": {
      "text/plain": [
       "Android    2314\n",
       "iOS        2102\n",
       "Name: os_version, dtype: int64"
      ]
     },
     "execution_count": 6,
     "metadata": {},
     "output_type": "execute_result"
    }
   ],
   "source": [
    "os['os_version'].value_counts()"
   ]
  },
  {
   "cell_type": "code",
   "execution_count": 7,
   "metadata": {},
   "outputs": [
    {
     "data": {
      "text/plain": [
       "os_version     0\n",
       "DeviceToken    0\n",
       "dtype: int64"
      ]
     },
     "execution_count": 7,
     "metadata": {},
     "output_type": "execute_result"
    }
   ],
   "source": [
    "os.isna().sum().sort_values(ascending=False).head()"
   ]
  },
  {
   "cell_type": "markdown",
   "metadata": {},
   "source": [
    "It's looking good!"
   ]
  },
  {
   "cell_type": "markdown",
   "metadata": {},
   "source": [
    "### Tracks wrangling"
   ]
  },
  {
   "cell_type": "code",
   "execution_count": 8,
   "metadata": {},
   "outputs": [
    {
     "name": "stdout",
     "output_type": "stream",
     "text": [
      "<class 'pandas.core.frame.DataFrame'>\n",
      "RangeIndex: 4000 entries, 0 to 3999\n",
      "Columns: 64 entries, Id to DeviationMeters\n",
      "dtypes: bool(2), float64(44), int64(5), object(13)\n",
      "memory usage: 1.9+ MB\n"
     ]
    }
   ],
   "source": [
    "tracks.info(verbose=False)"
   ]
  },
  {
   "cell_type": "code",
   "execution_count": 9,
   "metadata": {},
   "outputs": [
    {
     "data": {
      "text/plain": [
       "OriginalDriver    2000\n",
       "Passanger         1678\n",
       "Taxi               322\n",
       "Name: TrackOrigin, dtype: int64"
      ]
     },
     "execution_count": 9,
     "metadata": {},
     "output_type": "execute_result"
    }
   ],
   "source": [
    "tracks['TrackOrigin'].value_counts()"
   ]
  },
  {
   "cell_type": "markdown",
   "metadata": {},
   "source": [
    "Unbalance of classes are: 6.21:5.21:1 "
   ]
  },
  {
   "cell_type": "code",
   "execution_count": 10,
   "metadata": {},
   "outputs": [
    {
     "data": {
      "text/plain": [
       "BeaconId               4000\n",
       "VehicleId              4000\n",
       "Prediction             4000\n",
       "RatingCornering        2792\n",
       "OriginalTrackOrigin    2000\n",
       "KAcceleration          1208\n",
       "KDeceleration          1208\n",
       "Region                 1176\n",
       "DeviationMeters        1055\n",
       "DeviationRatio         1055\n",
       "KPhoneUsage            1008\n",
       "KTimeOfDay             1008\n",
       "KOverSpeed             1008\n",
       "CityStart                 1\n",
       "CityFinish                1\n",
       "AddressFinish             1\n",
       "Country                   1\n",
       "AddressStart              1\n",
       "RatingOverSpeed           0\n",
       "Urban                     0\n",
       "dtype: int64"
      ]
     },
     "execution_count": 10,
     "metadata": {},
     "output_type": "execute_result"
    }
   ],
   "source": [
    "tracks.isna().sum().sort_values(ascending=False).head(20)"
   ]
  },
  {
   "cell_type": "markdown",
   "metadata": {},
   "source": [
    "And a lot of missing values. Ok, as first let's drop columns with duplicate and only NA values:"
   ]
  },
  {
   "cell_type": "code",
   "execution_count": 11,
   "metadata": {},
   "outputs": [],
   "source": [
    "tracks.drop(['BeaconId','VehicleId', 'Prediction', 'OriginalTrackOrigin'], axis = 1, inplace = True)"
   ]
  },
  {
   "cell_type": "code",
   "execution_count": 12,
   "metadata": {},
   "outputs": [],
   "source": [
    "tracks.drop(['UpdateDT'], axis = 1, inplace = True) # technical information that we don't need"
   ]
  },
  {
   "cell_type": "markdown",
   "metadata": {},
   "source": [
    "I also need to drop columns with address, because:\n",
    "\n",
    "    1) We have all other information. \n",
    "    2) It is probably not so important to predict our target values \n",
    "    3) To avoid problems with personal data)"
   ]
  },
  {
   "cell_type": "code",
   "execution_count": 13,
   "metadata": {},
   "outputs": [],
   "source": [
    "tracks.drop(['AddressStart','AddressFinish'], axis = 1, inplace = True)"
   ]
  },
  {
   "cell_type": "markdown",
   "metadata": {},
   "source": [
    "And a row without info about country:"
   ]
  },
  {
   "cell_type": "code",
   "execution_count": 14,
   "metadata": {},
   "outputs": [
    {
     "name": "stdout",
     "output_type": "stream",
     "text": [
      "Entry was deleted.\n"
     ]
    }
   ],
   "source": [
    "tracks.drop(tracks[tracks.Country.isna()].index[0], inplace=True)\n",
    "tracks.reindex(index=range(0, len(tracks.Id)))\n",
    "print('Entry was deleted.')"
   ]
  },
  {
   "cell_type": "markdown",
   "metadata": {},
   "source": [
    "Let us see on missing values in 'RatingCornering':"
   ]
  },
  {
   "cell_type": "code",
   "execution_count": 15,
   "metadata": {},
   "outputs": [
    {
     "data": {
      "text/plain": [
       "Passanger         910\n",
       "OriginalDriver    298\n",
       "Name: TrackOrigin, dtype: int64"
      ]
     },
     "execution_count": 15,
     "metadata": {},
     "output_type": "execute_result"
    }
   ],
   "source": [
    "tracks[tracks['RatingCornering'].isna() == False]['TrackOrigin'].value_counts()"
   ]
  },
  {
   "cell_type": "markdown",
   "metadata": {},
   "source": [
    "For not NA-values there are no entries with TrackOrigin = 'Taxi'. Can it be accidentally?"
   ]
  },
  {
   "cell_type": "markdown",
   "metadata": {},
   "source": [
    "Which part of our dataset consist of 'Taxi'?"
   ]
  },
  {
   "cell_type": "code",
   "execution_count": 16,
   "metadata": {},
   "outputs": [
    {
     "data": {
      "text/plain": [
       "0.08052013003250813"
      ]
     },
     "execution_count": 16,
     "metadata": {},
     "output_type": "execute_result"
    }
   ],
   "source": [
    "tracks[tracks['TrackOrigin']=='Taxi']['TrackOrigin'].count()/tracks['TrackOrigin'].count()"
   ]
  },
  {
   "cell_type": "markdown",
   "metadata": {},
   "source": [
    "8%! But in our case, there are 1208 entries where “RatingCornering” has a non-null value. This means that it is no coincidence, and we can fill these NA."
   ]
  },
  {
   "cell_type": "code",
   "execution_count": 17,
   "metadata": {},
   "outputs": [
    {
     "data": {
      "text/plain": [
       "5.0    1097\n",
       "1.0      61\n",
       "4.0      21\n",
       "3.0      12\n",
       "2.0       7\n",
       "Name: RatingCornering, dtype: int64"
      ]
     },
     "execution_count": 17,
     "metadata": {},
     "output_type": "execute_result"
    }
   ],
   "source": [
    "tracks[tracks['RatingCornering'] > 0]['RatingCornering'].value_counts()"
   ]
  },
  {
   "cell_type": "markdown",
   "metadata": {},
   "source": [
    "I think zero is good choice for that."
   ]
  },
  {
   "cell_type": "code",
   "execution_count": 18,
   "metadata": {},
   "outputs": [],
   "source": [
    "tracks.loc[tracks['TrackOrigin']=='Taxi','RatingCornering'] = tracks.loc[tracks['TrackOrigin']=='Taxi','RatingCornering'].fillna(value=0)"
   ]
  },
  {
   "cell_type": "markdown",
   "metadata": {},
   "source": [
    "Now let us see to the other two categories:"
   ]
  },
  {
   "cell_type": "code",
   "execution_count": 19,
   "metadata": {},
   "outputs": [
    {
     "data": {
      "text/plain": [
       "5.0    284\n",
       "1.0      9\n",
       "4.0      4\n",
       "3.0      1\n",
       "Name: RatingCornering, dtype: int64"
      ]
     },
     "execution_count": 19,
     "metadata": {},
     "output_type": "execute_result"
    }
   ],
   "source": [
    "tracks[tracks['TrackOrigin'] == 'OriginalDriver']['RatingCornering'].value_counts()"
   ]
  },
  {
   "cell_type": "code",
   "execution_count": 20,
   "metadata": {},
   "outputs": [
    {
     "data": {
      "text/plain": [
       "5.0    813\n",
       "1.0     52\n",
       "4.0     17\n",
       "3.0     11\n",
       "0.0     10\n",
       "2.0      7\n",
       "Name: RatingCornering, dtype: int64"
      ]
     },
     "execution_count": 20,
     "metadata": {},
     "output_type": "execute_result"
    }
   ],
   "source": [
    "tracks[tracks['TrackOrigin'] == 'Passanger']['RatingCornering'].value_counts()"
   ]
  },
  {
   "cell_type": "markdown",
   "metadata": {},
   "source": [
    "Almost all rows, marked as 'OriginalDriver', has 5 in RatingCornering and we can count the other 13 values as outliers. But for 'Passanger' situation is another. We can not use the median value, because there is skewness in data. So it can be reasonable to fill NA-values with mean."
   ]
  },
  {
   "cell_type": "code",
   "execution_count": 21,
   "metadata": {},
   "outputs": [],
   "source": [
    "tracks.loc[tracks['TrackOrigin']=='OriginalDriver','RatingCornering'] = tracks.loc[tracks['TrackOrigin']=='OriginalDriver','RatingCornering'].fillna(value=5)"
   ]
  },
  {
   "cell_type": "code",
   "execution_count": 22,
   "metadata": {},
   "outputs": [],
   "source": [
    "mean_value = tracks[tracks['TrackOrigin'] == 'Passanger']['RatingCornering'].mean()\n",
    "tracks.loc[tracks['TrackOrigin']=='Passanger','RatingCornering'] = tracks.loc[tracks['TrackOrigin']=='Passanger','RatingCornering'].fillna(value=mean_value)"
   ]
  },
  {
   "cell_type": "code",
   "execution_count": 23,
   "metadata": {},
   "outputs": [
    {
     "name": "stdout",
     "output_type": "stream",
     "text": [
      "<class 'pandas.core.frame.DataFrame'>\n",
      "Int64Index: 3999 entries, 0 to 3999\n",
      "Data columns (total 57 columns):\n",
      " #   Column                  Non-Null Count  Dtype  \n",
      "---  ------                  --------------  -----  \n",
      " 0   Id                      3999 non-null   int64  \n",
      " 1   TrackToken              3999 non-null   object \n",
      " 2   DeviceToken             3999 non-null   object \n",
      " 3   IncomingTrackId         3999 non-null   int64  \n",
      " 4   StartDate               3999 non-null   object \n",
      " 5   EndDate                 3999 non-null   object \n",
      " 6   Distance                3999 non-null   float64\n",
      " 7   Duration                3999 non-null   float64\n",
      " 8   AccelerationCount       3999 non-null   int64  \n",
      " 9   DecelerationCount       3999 non-null   int64  \n",
      " 10  Rating                  3999 non-null   float64\n",
      " 11  PhoneUsage              3999 non-null   float64\n",
      " 12  TrackOrigin             3999 non-null   object \n",
      " 13  OriginChanged           3999 non-null   bool   \n",
      " 14  DistanceGPS             3999 non-null   float64\n",
      " 15  Urban                   3999 non-null   bool   \n",
      " 16  Region                  2824 non-null   object \n",
      " 17  Country                 3999 non-null   object \n",
      " 18  RatingOverSpeed         3999 non-null   float64\n",
      " 19  RatingAcceleration      3999 non-null   float64\n",
      " 20  RatingTimeOfDay         3999 non-null   float64\n",
      " 21  RatingPhoneUsage        3999 non-null   float64\n",
      " 22  OverSpeedMileage        3999 non-null   float64\n",
      " 23  MidOverSpeedMileage     3999 non-null   float64\n",
      " 24  HighOverSpeedMileage    3999 non-null   float64\n",
      " 25  CompanyId               3999 non-null   int64  \n",
      " 26  RushHours               3999 non-null   float64\n",
      " 27  NightHours              3999 non-null   float64\n",
      " 28  DailyHours              3999 non-null   float64\n",
      " 29  RatingDeceleration      3999 non-null   float64\n",
      " 30  KOverSpeed              2991 non-null   float64\n",
      " 31  KAcceleration           2791 non-null   float64\n",
      " 32  KTimeOfDay              2991 non-null   float64\n",
      " 33  KDeceleration           2791 non-null   float64\n",
      " 34  MaxSpeed                3999 non-null   float64\n",
      " 35  AverageSpeed            3999 non-null   float64\n",
      " 36  PhoneUsageOverSpeed     3999 non-null   float64\n",
      " 37  PhoneUsageKm            3999 non-null   float64\n",
      " 38  PhoneUsageOverSpeedKm   3999 non-null   float64\n",
      " 39  KPhoneUsage             2991 non-null   float64\n",
      " 40  EcoScoringFuel          3999 non-null   float64\n",
      " 41  EcoScoringTyres         3999 non-null   float64\n",
      " 42  EcoScoringBrakes        3999 non-null   float64\n",
      " 43  EcoScoringDepreciation  3999 non-null   float64\n",
      " 44  EcoScoring              3999 non-null   float64\n",
      " 45  Shared                  3999 non-null   float64\n",
      " 46  CityStart               3999 non-null   object \n",
      " 47  CityFinish              3999 non-null   object \n",
      " 48  CorneringCount          3999 non-null   float64\n",
      " 49  CorneringDuration       3999 non-null   float64\n",
      " 50  AccelerationICount      3999 non-null   float64\n",
      " 51  DecelerationICount      3999 non-null   float64\n",
      " 52  AccelerationIDuration   3999 non-null   float64\n",
      " 53  DecelerationIDuration   3999 non-null   float64\n",
      " 54  RatingCornering         3999 non-null   float64\n",
      " 55  DeviationRatio          2944 non-null   float64\n",
      " 56  DeviationMeters         2944 non-null   float64\n",
      "dtypes: bool(2), float64(41), int64(5), object(9)\n",
      "memory usage: 1.9+ MB\n"
     ]
    }
   ],
   "source": [
    "tracks.info()"
   ]
  },
  {
   "cell_type": "code",
   "execution_count": 24,
   "metadata": {},
   "outputs": [],
   "source": [
    "tracks_numbers = tracks.drop(['Id', 'TrackToken', 'DeviceToken', 'IncomingTrackId', 'StartDate', 'EndDate', 'TrackOrigin', 'Region', 'Country', 'CityStart', 'CityFinish'], axis = 1).copy()"
   ]
  },
  {
   "cell_type": "markdown",
   "metadata": {},
   "source": [
    "IterativeImputer will help us to fill the missing values while maintaining distribution characteristics."
   ]
  },
  {
   "cell_type": "code",
   "execution_count": 25,
   "metadata": {},
   "outputs": [],
   "source": [
    "it_imp = IterativeImputer(max_iter=10000)"
   ]
  },
  {
   "cell_type": "code",
   "execution_count": 26,
   "metadata": {},
   "outputs": [],
   "source": [
    "tracks_new = pd.DataFrame(data =it_imp.fit_transform(tracks_numbers), columns = tracks_numbers.columns)"
   ]
  },
  {
   "cell_type": "code",
   "execution_count": 27,
   "metadata": {},
   "outputs": [],
   "source": [
    "# We also need to normalize coeffitient values, what more than 1:\n",
    "# KOverSpeed, KAcceleration, KTimeOfDay, KDeceleration, KPhoneUsage\n",
    "\n",
    "for i in tracks_new[tracks_new.KOverSpeed >1].index:\n",
    "    tracks_new.iloc[i,21] = 1\n",
    "for i in tracks_new[tracks_new.KAcceleration >1].index:\n",
    "        tracks_new.iloc[i,22] = 1\n",
    "for i in tracks_new[tracks_new.KTimeOfDay >1].index:\n",
    "        tracks_new.iloc[i,23] = 1\n",
    "for i in tracks_new[tracks_new.KDeceleration >1].index:\n",
    "        tracks_new.iloc[i,24] = 1\n",
    "for i in tracks_new[tracks_new.KPhoneUsage >1].index:\n",
    "        tracks_new.iloc[i,30] = 1"
   ]
  },
  {
   "cell_type": "code",
   "execution_count": 28,
   "metadata": {},
   "outputs": [],
   "source": [
    "tracks = tracks[['Id', 'TrackToken', 'DeviceToken', 'IncomingTrackId', 'StartDate', 'EndDate', 'TrackOrigin', 'Region', 'Country', 'CityStart', 'CityFinish']]\n",
    "tracks = tracks.join(tracks_new, how='inner')"
   ]
  },
  {
   "cell_type": "markdown",
   "metadata": {},
   "source": [
    "'Shared' has only 0-values, so we can drop it:"
   ]
  },
  {
   "cell_type": "code",
   "execution_count": 29,
   "metadata": {},
   "outputs": [],
   "source": [
    "tracks.drop('Shared',axis = 1, inplace = True)"
   ]
  },
  {
   "cell_type": "markdown",
   "metadata": {},
   "source": [
    "## Feature engineering"
   ]
  },
  {
   "cell_type": "markdown",
   "metadata": {},
   "source": [
    "As first we can add a os_version. For these we need reindex our dataset on Device token:"
   ]
  },
  {
   "cell_type": "code",
   "execution_count": 30,
   "metadata": {},
   "outputs": [],
   "source": [
    "tracks = tracks.set_index('DeviceToken').join(os.set_index('DeviceToken'))"
   ]
  },
  {
   "cell_type": "markdown",
   "metadata": {},
   "source": [
    "As we have start and finish city, it can be worth to mark intercity trips."
   ]
  },
  {
   "cell_type": "code",
   "execution_count": 31,
   "metadata": {},
   "outputs": [],
   "source": [
    "tracks['is_intercity'] = 0\n",
    "tracks['year'] = 0\n",
    "tracks['dayofyear'] = 0\n",
    "tracks['quarter'] = 0\n",
    "tracks['month'] = 0\n",
    "tracks['days_in_month'] = 0\n",
    "tracks['weekofyear'] = 0\n",
    "tracks['dayofweek'] = 0\n",
    "tracks['day'] = 0\n",
    "tracks['hour'] = 0\n",
    "tracks['is_month_end'] = 0\n",
    "tracks['is_month_start'] = 0\n",
    "tracks['is_quarter_end'] = 0\n",
    "tracks['is_quarter_start'] = 0\n",
    "tracks['is_year_end'] = 0\n",
    "tracks['is_year_start'] = 0\n",
    "\n",
    "for row in range(0, tracks.count()[0]):\n",
    "    if tracks.iloc[row, 8] != tracks.iloc[row, 9]:\n",
    "        tracks.iloc[row,-16] = 1\n",
    "        \n",
    "    tracks.iloc[row,-15] = pd.to_datetime(tracks.iloc[row,3]).year\n",
    "    tracks.iloc[row,-14] = pd.to_datetime(tracks.iloc[row,3]).dayofyear\n",
    "    tracks.iloc[row,-13] = pd.to_datetime(tracks.iloc[row,3]).quarter\n",
    "    tracks.iloc[row,-12] = pd.to_datetime(tracks.iloc[row,3]).month\n",
    "    tracks.iloc[row,-11] = pd.to_datetime(tracks.iloc[row,3]).days_in_month\n",
    "    tracks.iloc[row,-10] = pd.to_datetime(tracks.iloc[row,3]).weekofyear\n",
    "    tracks.iloc[row,-9] = pd.to_datetime(tracks.iloc[row,3]).dayofweek\n",
    "    tracks.iloc[row,-8] = pd.to_datetime(tracks.iloc[row,3]).day\n",
    "    tracks.iloc[row,-7] = pd.to_datetime(tracks.iloc[row,3]).hour\n",
    "    \n",
    "    if pd.to_datetime(tracks.iloc[row,3]).is_month_end == True:\n",
    "        tracks.iloc[row,-6] = 1\n",
    "    if pd.to_datetime(tracks.iloc[row,3]).is_month_start == True:\n",
    "        tracks.iloc[row,-5] = 1\n",
    "    if pd.to_datetime(tracks.iloc[row,3]).is_quarter_end == True:\n",
    "        tracks.iloc[row,-4] = 1\n",
    "    if pd.to_datetime(tracks.iloc[row,3]).is_quarter_start == True:\n",
    "        tracks.iloc[row,-3] = 1        \n",
    "    if pd.to_datetime(tracks.iloc[row,3]).is_year_end == True:\n",
    "        tracks.iloc[row,-2] = 1\n",
    "    if pd.to_datetime(tracks.iloc[row,3]).is_year_start == True:\n",
    "        tracks.iloc[row,-1] = 1   \n",
    "    row+=1"
   ]
  },
  {
   "cell_type": "code",
   "execution_count": 32,
   "metadata": {},
   "outputs": [
    {
     "data": {
      "text/html": [
       "<div>\n",
       "<style scoped>\n",
       "    .dataframe tbody tr th:only-of-type {\n",
       "        vertical-align: middle;\n",
       "    }\n",
       "\n",
       "    .dataframe tbody tr th {\n",
       "        vertical-align: top;\n",
       "    }\n",
       "\n",
       "    .dataframe thead th {\n",
       "        text-align: right;\n",
       "    }\n",
       "</style>\n",
       "<table border=\"1\" class=\"dataframe\">\n",
       "  <thead>\n",
       "    <tr style=\"text-align: right;\">\n",
       "      <th></th>\n",
       "      <th>is_intercity</th>\n",
       "      <th>year</th>\n",
       "      <th>dayofyear</th>\n",
       "      <th>quarter</th>\n",
       "      <th>month</th>\n",
       "      <th>days_in_month</th>\n",
       "      <th>weekofyear</th>\n",
       "      <th>dayofweek</th>\n",
       "      <th>day</th>\n",
       "      <th>hour</th>\n",
       "      <th>is_month_end</th>\n",
       "      <th>is_month_start</th>\n",
       "      <th>is_quarter_end</th>\n",
       "      <th>is_quarter_start</th>\n",
       "      <th>is_year_end</th>\n",
       "      <th>is_year_start</th>\n",
       "    </tr>\n",
       "  </thead>\n",
       "  <tbody>\n",
       "    <tr>\n",
       "      <th>count</th>\n",
       "      <td>4037.000000</td>\n",
       "      <td>4037.0</td>\n",
       "      <td>4037.000000</td>\n",
       "      <td>4037.000000</td>\n",
       "      <td>4037.000000</td>\n",
       "      <td>4037.000000</td>\n",
       "      <td>4037.000000</td>\n",
       "      <td>4037.000000</td>\n",
       "      <td>4037.000000</td>\n",
       "      <td>4037.000000</td>\n",
       "      <td>4037.000000</td>\n",
       "      <td>4037.000000</td>\n",
       "      <td>4037.000000</td>\n",
       "      <td>4037.000000</td>\n",
       "      <td>4037.0</td>\n",
       "      <td>4037.0</td>\n",
       "    </tr>\n",
       "    <tr>\n",
       "      <th>mean</th>\n",
       "      <td>0.199901</td>\n",
       "      <td>2019.0</td>\n",
       "      <td>278.905871</td>\n",
       "      <td>3.740649</td>\n",
       "      <td>9.665346</td>\n",
       "      <td>30.810007</td>\n",
       "      <td>40.380481</td>\n",
       "      <td>3.242507</td>\n",
       "      <td>16.020808</td>\n",
       "      <td>13.913550</td>\n",
       "      <td>0.004706</td>\n",
       "      <td>0.002973</td>\n",
       "      <td>0.004706</td>\n",
       "      <td>0.002973</td>\n",
       "      <td>0.0</td>\n",
       "      <td>0.0</td>\n",
       "    </tr>\n",
       "    <tr>\n",
       "      <th>std</th>\n",
       "      <td>0.399975</td>\n",
       "      <td>0.0</td>\n",
       "      <td>19.792959</td>\n",
       "      <td>0.438333</td>\n",
       "      <td>0.620688</td>\n",
       "      <td>0.392344</td>\n",
       "      <td>2.859684</td>\n",
       "      <td>1.472542</td>\n",
       "      <td>5.679503</td>\n",
       "      <td>4.666606</td>\n",
       "      <td>0.068451</td>\n",
       "      <td>0.054446</td>\n",
       "      <td>0.068451</td>\n",
       "      <td>0.054446</td>\n",
       "      <td>0.0</td>\n",
       "      <td>0.0</td>\n",
       "    </tr>\n",
       "    <tr>\n",
       "      <th>min</th>\n",
       "      <td>0.000000</td>\n",
       "      <td>2019.0</td>\n",
       "      <td>196.000000</td>\n",
       "      <td>3.000000</td>\n",
       "      <td>7.000000</td>\n",
       "      <td>30.000000</td>\n",
       "      <td>29.000000</td>\n",
       "      <td>0.000000</td>\n",
       "      <td>1.000000</td>\n",
       "      <td>0.000000</td>\n",
       "      <td>0.000000</td>\n",
       "      <td>0.000000</td>\n",
       "      <td>0.000000</td>\n",
       "      <td>0.000000</td>\n",
       "      <td>0.0</td>\n",
       "      <td>0.0</td>\n",
       "    </tr>\n",
       "    <tr>\n",
       "      <th>25%</th>\n",
       "      <td>0.000000</td>\n",
       "      <td>2019.0</td>\n",
       "      <td>272.000000</td>\n",
       "      <td>3.000000</td>\n",
       "      <td>9.000000</td>\n",
       "      <td>31.000000</td>\n",
       "      <td>39.000000</td>\n",
       "      <td>3.000000</td>\n",
       "      <td>15.000000</td>\n",
       "      <td>11.000000</td>\n",
       "      <td>0.000000</td>\n",
       "      <td>0.000000</td>\n",
       "      <td>0.000000</td>\n",
       "      <td>0.000000</td>\n",
       "      <td>0.0</td>\n",
       "      <td>0.0</td>\n",
       "    </tr>\n",
       "    <tr>\n",
       "      <th>50%</th>\n",
       "      <td>0.000000</td>\n",
       "      <td>2019.0</td>\n",
       "      <td>290.000000</td>\n",
       "      <td>4.000000</td>\n",
       "      <td>10.000000</td>\n",
       "      <td>31.000000</td>\n",
       "      <td>42.000000</td>\n",
       "      <td>3.000000</td>\n",
       "      <td>17.000000</td>\n",
       "      <td>14.000000</td>\n",
       "      <td>0.000000</td>\n",
       "      <td>0.000000</td>\n",
       "      <td>0.000000</td>\n",
       "      <td>0.000000</td>\n",
       "      <td>0.0</td>\n",
       "      <td>0.0</td>\n",
       "    </tr>\n",
       "    <tr>\n",
       "      <th>75%</th>\n",
       "      <td>0.000000</td>\n",
       "      <td>2019.0</td>\n",
       "      <td>290.000000</td>\n",
       "      <td>4.000000</td>\n",
       "      <td>10.000000</td>\n",
       "      <td>31.000000</td>\n",
       "      <td>42.000000</td>\n",
       "      <td>4.000000</td>\n",
       "      <td>17.000000</td>\n",
       "      <td>17.000000</td>\n",
       "      <td>0.000000</td>\n",
       "      <td>0.000000</td>\n",
       "      <td>0.000000</td>\n",
       "      <td>0.000000</td>\n",
       "      <td>0.0</td>\n",
       "      <td>0.0</td>\n",
       "    </tr>\n",
       "    <tr>\n",
       "      <th>max</th>\n",
       "      <td>1.000000</td>\n",
       "      <td>2019.0</td>\n",
       "      <td>296.000000</td>\n",
       "      <td>4.000000</td>\n",
       "      <td>10.000000</td>\n",
       "      <td>31.000000</td>\n",
       "      <td>43.000000</td>\n",
       "      <td>6.000000</td>\n",
       "      <td>30.000000</td>\n",
       "      <td>23.000000</td>\n",
       "      <td>1.000000</td>\n",
       "      <td>1.000000</td>\n",
       "      <td>1.000000</td>\n",
       "      <td>1.000000</td>\n",
       "      <td>0.0</td>\n",
       "      <td>0.0</td>\n",
       "    </tr>\n",
       "  </tbody>\n",
       "</table>\n",
       "</div>"
      ],
      "text/plain": [
       "       is_intercity    year    dayofyear      quarter        month  \\\n",
       "count   4037.000000  4037.0  4037.000000  4037.000000  4037.000000   \n",
       "mean       0.199901  2019.0   278.905871     3.740649     9.665346   \n",
       "std        0.399975     0.0    19.792959     0.438333     0.620688   \n",
       "min        0.000000  2019.0   196.000000     3.000000     7.000000   \n",
       "25%        0.000000  2019.0   272.000000     3.000000     9.000000   \n",
       "50%        0.000000  2019.0   290.000000     4.000000    10.000000   \n",
       "75%        0.000000  2019.0   290.000000     4.000000    10.000000   \n",
       "max        1.000000  2019.0   296.000000     4.000000    10.000000   \n",
       "\n",
       "       days_in_month   weekofyear    dayofweek          day         hour  \\\n",
       "count    4037.000000  4037.000000  4037.000000  4037.000000  4037.000000   \n",
       "mean       30.810007    40.380481     3.242507    16.020808    13.913550   \n",
       "std         0.392344     2.859684     1.472542     5.679503     4.666606   \n",
       "min        30.000000    29.000000     0.000000     1.000000     0.000000   \n",
       "25%        31.000000    39.000000     3.000000    15.000000    11.000000   \n",
       "50%        31.000000    42.000000     3.000000    17.000000    14.000000   \n",
       "75%        31.000000    42.000000     4.000000    17.000000    17.000000   \n",
       "max        31.000000    43.000000     6.000000    30.000000    23.000000   \n",
       "\n",
       "       is_month_end  is_month_start  is_quarter_end  is_quarter_start  \\\n",
       "count   4037.000000     4037.000000     4037.000000       4037.000000   \n",
       "mean       0.004706        0.002973        0.004706          0.002973   \n",
       "std        0.068451        0.054446        0.068451          0.054446   \n",
       "min        0.000000        0.000000        0.000000          0.000000   \n",
       "25%        0.000000        0.000000        0.000000          0.000000   \n",
       "50%        0.000000        0.000000        0.000000          0.000000   \n",
       "75%        0.000000        0.000000        0.000000          0.000000   \n",
       "max        1.000000        1.000000        1.000000          1.000000   \n",
       "\n",
       "       is_year_end  is_year_start  \n",
       "count       4037.0         4037.0  \n",
       "mean           0.0            0.0  \n",
       "std            0.0            0.0  \n",
       "min            0.0            0.0  \n",
       "25%            0.0            0.0  \n",
       "50%            0.0            0.0  \n",
       "75%            0.0            0.0  \n",
       "max            0.0            0.0  "
      ]
     },
     "execution_count": 32,
     "metadata": {},
     "output_type": "execute_result"
    }
   ],
   "source": [
    "tracks.iloc[:,-16:].describe()"
   ]
  },
  {
   "cell_type": "markdown",
   "metadata": {},
   "source": [
    "Now we can drop useless columns without any information for us:"
   ]
  },
  {
   "cell_type": "code",
   "execution_count": 33,
   "metadata": {},
   "outputs": [],
   "source": [
    "tracks = tracks.drop(['Id','Region','TrackToken','IncomingTrackId','StartDate','EndDate','CityFinish','year','is_year_end','is_year_start'], axis =1)"
   ]
  },
  {
   "cell_type": "markdown",
   "metadata": {},
   "source": [
    "Countries and Cities must be replaced with numbers:"
   ]
  },
  {
   "cell_type": "code",
   "execution_count": 34,
   "metadata": {},
   "outputs": [],
   "source": [
    "country_labels = tracks.Country.unique()\n",
    "country_dict = dict(zip(country_labels, range(len(country_labels))))\n",
    "tracks = tracks.replace({\"Country\": country_dict})"
   ]
  },
  {
   "cell_type": "code",
   "execution_count": 35,
   "metadata": {},
   "outputs": [],
   "source": [
    "city_labels = tracks.CityStart.unique()\n",
    "city_dict = dict(zip(city_labels, range(len(city_labels))))\n",
    "tracks = tracks.replace({\"CityStart\": city_dict})"
   ]
  },
  {
   "cell_type": "code",
   "execution_count": 36,
   "metadata": {},
   "outputs": [],
   "source": [
    "tracks.TrackOrigin = tracks.TrackOrigin.map({'OriginalDriver':1, 'Passanger':2,'Taxi':3})\n",
    "tracks.os_version = tracks.os_version.map({'Android':1,'iOS':2}, na_action='ignore')\n",
    "tracks.os_version.fillna('3',inplace=True)\n",
    "tracks.os_version = tracks.os_version.astype('int')"
   ]
  },
  {
   "cell_type": "markdown",
   "metadata": {},
   "source": [
    "### Now, our dataset is ready to ML!"
   ]
  },
  {
   "cell_type": "markdown",
   "metadata": {},
   "source": [
    "Our purpose is tracks classification. Lets take a look on categories balance:"
   ]
  },
  {
   "cell_type": "code",
   "execution_count": 37,
   "metadata": {},
   "outputs": [
    {
     "data": {
      "text/plain": [
       "1    2005\n",
       "2    1708\n",
       "3     324\n",
       "Name: TrackOrigin, dtype: int64"
      ]
     },
     "execution_count": 37,
     "metadata": {},
     "output_type": "execute_result"
    }
   ],
   "source": [
    "tracks.TrackOrigin.value_counts()"
   ]
  },
  {
   "cell_type": "markdown",
   "metadata": {},
   "source": [
    "As a predictions metric, I would use 'balanced_accuracy' because it's a good choice for the same imbalanced datasets. Let us run a GBClassifier (because of it fast and accurate), just to see results."
   ]
  },
  {
   "cell_type": "code",
   "execution_count": 38,
   "metadata": {},
   "outputs": [],
   "source": [
    "y = tracks.TrackOrigin\n",
    "X = tracks.drop('TrackOrigin', axis = 1)"
   ]
  },
  {
   "cell_type": "code",
   "execution_count": 39,
   "metadata": {},
   "outputs": [
    {
     "name": "stdout",
     "output_type": "stream",
     "text": [
      "              precision    recall  f1-score   support\n",
      "\n",
      "           1       1.00      1.00      1.00       611\n",
      "           2       0.89      0.92      0.90       512\n",
      "           3       0.42      0.34      0.37        89\n",
      "\n",
      "    accuracy                           0.92      1212\n",
      "   macro avg       0.77      0.75      0.76      1212\n",
      "weighted avg       0.91      0.92      0.91      1212\n",
      "\n",
      "Balanced acc.score: 0.7516824672284644\n"
     ]
    }
   ],
   "source": [
    "gbc = GradientBoostingClassifier(n_estimators=1000)\n",
    "X_train, X_test, y_train, y_test = train_test_split(X, y, test_size=0.3, random_state=42, shuffle=True)\n",
    "model = gbc.fit(X_train, y_train)\n",
    "print(classification_report(y_test,model.predict(X_test)))\n",
    "print('Balanced acc.score:',balanced_accuracy_score(y_test,model.predict(X_test)))"
   ]
  },
  {
   "cell_type": "code",
   "execution_count": 40,
   "metadata": {},
   "outputs": [
    {
     "data": {
      "text/html": [
       "<div>\n",
       "<style scoped>\n",
       "    .dataframe tbody tr th:only-of-type {\n",
       "        vertical-align: middle;\n",
       "    }\n",
       "\n",
       "    .dataframe tbody tr th {\n",
       "        vertical-align: top;\n",
       "    }\n",
       "\n",
       "    .dataframe thead th {\n",
       "        text-align: right;\n",
       "    }\n",
       "</style>\n",
       "<table border=\"1\" class=\"dataframe\">\n",
       "  <thead>\n",
       "    <tr style=\"text-align: right;\">\n",
       "      <th></th>\n",
       "      <th>OriginChanged</th>\n",
       "      <th>Country</th>\n",
       "      <th>CityStart</th>\n",
       "      <th>day</th>\n",
       "      <th>hour</th>\n",
       "      <th>dayofyear</th>\n",
       "      <th>DeviationRatio</th>\n",
       "      <th>AccelerationIDuration</th>\n",
       "      <th>Distance</th>\n",
       "      <th>MaxSpeed</th>\n",
       "      <th>AverageSpeed</th>\n",
       "      <th>dayofweek</th>\n",
       "      <th>DeviationMeters</th>\n",
       "      <th>MidOverSpeedMileage</th>\n",
       "      <th>AccelerationICount</th>\n",
       "      <th>KOverSpeed</th>\n",
       "      <th>Duration</th>\n",
       "      <th>KDeceleration</th>\n",
       "      <th>EcoScoring</th>\n",
       "      <th>os_version</th>\n",
       "      <th>DailyHours</th>\n",
       "      <th>RatingCornering</th>\n",
       "      <th>HighOverSpeedMileage</th>\n",
       "      <th>OverSpeedMileage</th>\n",
       "      <th>PhoneUsageKm</th>\n",
       "      <th>RatingPhoneUsage</th>\n",
       "      <th>NightHours</th>\n",
       "      <th>DecelerationICount</th>\n",
       "      <th>RatingDeceleration</th>\n",
       "      <th>DistanceGPS</th>\n",
       "      <th>DecelerationIDuration</th>\n",
       "      <th>EcoScoringTyres</th>\n",
       "      <th>RatingAcceleration</th>\n",
       "      <th>Rating</th>\n",
       "      <th>RushHours</th>\n",
       "      <th>RatingOverSpeed</th>\n",
       "      <th>KAcceleration</th>\n",
       "      <th>RatingTimeOfDay</th>\n",
       "      <th>CompanyId</th>\n",
       "      <th>PhoneUsage</th>\n",
       "      <th>EcoScoringDepreciation</th>\n",
       "      <th>CorneringDuration</th>\n",
       "      <th>weekofyear</th>\n",
       "      <th>PhoneUsageOverSpeedKm</th>\n",
       "      <th>DecelerationCount</th>\n",
       "      <th>is_month_start</th>\n",
       "      <th>days_in_month</th>\n",
       "      <th>month</th>\n",
       "      <th>is_quarter_start</th>\n",
       "      <th>quarter</th>\n",
       "      <th>PhoneUsageOverSpeed</th>\n",
       "      <th>AccelerationCount</th>\n",
       "      <th>is_intercity</th>\n",
       "      <th>Urban</th>\n",
       "      <th>CorneringCount</th>\n",
       "      <th>is_quarter_end</th>\n",
       "      <th>is_month_end</th>\n",
       "      <th>EcoScoringFuel</th>\n",
       "      <th>KTimeOfDay</th>\n",
       "      <th>KPhoneUsage</th>\n",
       "      <th>EcoScoringBrakes</th>\n",
       "    </tr>\n",
       "  </thead>\n",
       "  <tbody>\n",
       "    <tr>\n",
       "      <th>Importance</th>\n",
       "      <td>0.823746</td>\n",
       "      <td>0.059929</td>\n",
       "      <td>0.016537</td>\n",
       "      <td>0.00933</td>\n",
       "      <td>0.00918</td>\n",
       "      <td>0.007858</td>\n",
       "      <td>0.007097</td>\n",
       "      <td>0.004745</td>\n",
       "      <td>0.004265</td>\n",
       "      <td>0.00413</td>\n",
       "      <td>0.004028</td>\n",
       "      <td>0.003616</td>\n",
       "      <td>0.003063</td>\n",
       "      <td>0.002755</td>\n",
       "      <td>0.002605</td>\n",
       "      <td>0.002559</td>\n",
       "      <td>0.002518</td>\n",
       "      <td>0.002319</td>\n",
       "      <td>0.002144</td>\n",
       "      <td>0.002081</td>\n",
       "      <td>0.001774</td>\n",
       "      <td>0.001718</td>\n",
       "      <td>0.001688</td>\n",
       "      <td>0.001584</td>\n",
       "      <td>0.001424</td>\n",
       "      <td>0.001328</td>\n",
       "      <td>0.001242</td>\n",
       "      <td>0.001232</td>\n",
       "      <td>0.001188</td>\n",
       "      <td>0.001154</td>\n",
       "      <td>0.001017</td>\n",
       "      <td>0.000928</td>\n",
       "      <td>0.000845</td>\n",
       "      <td>0.000828</td>\n",
       "      <td>0.000796</td>\n",
       "      <td>0.000793</td>\n",
       "      <td>0.000727</td>\n",
       "      <td>0.000705</td>\n",
       "      <td>0.000556</td>\n",
       "      <td>0.00051</td>\n",
       "      <td>0.000486</td>\n",
       "      <td>0.00044</td>\n",
       "      <td>0.000423</td>\n",
       "      <td>0.000405</td>\n",
       "      <td>0.000355</td>\n",
       "      <td>0.000307</td>\n",
       "      <td>0.000155</td>\n",
       "      <td>0.000154</td>\n",
       "      <td>0.000146</td>\n",
       "      <td>0.00013</td>\n",
       "      <td>0.000116</td>\n",
       "      <td>0.00009</td>\n",
       "      <td>0.000086</td>\n",
       "      <td>0.00007</td>\n",
       "      <td>0.000043</td>\n",
       "      <td>0.000027</td>\n",
       "      <td>0.000016</td>\n",
       "      <td>0.000006</td>\n",
       "      <td>0.000001</td>\n",
       "      <td>4.927246e-10</td>\n",
       "      <td>0.0</td>\n",
       "    </tr>\n",
       "  </tbody>\n",
       "</table>\n",
       "</div>"
      ],
      "text/plain": [
       "            OriginChanged   Country  CityStart      day     hour  dayofyear  \\\n",
       "Importance       0.823746  0.059929   0.016537  0.00933  0.00918   0.007858   \n",
       "\n",
       "            DeviationRatio  AccelerationIDuration  Distance  MaxSpeed  \\\n",
       "Importance        0.007097               0.004745  0.004265   0.00413   \n",
       "\n",
       "            AverageSpeed  dayofweek  DeviationMeters  MidOverSpeedMileage  \\\n",
       "Importance      0.004028   0.003616         0.003063             0.002755   \n",
       "\n",
       "            AccelerationICount  KOverSpeed  Duration  KDeceleration  \\\n",
       "Importance            0.002605    0.002559  0.002518       0.002319   \n",
       "\n",
       "            EcoScoring  os_version  DailyHours  RatingCornering  \\\n",
       "Importance    0.002144    0.002081    0.001774         0.001718   \n",
       "\n",
       "            HighOverSpeedMileage  OverSpeedMileage  PhoneUsageKm  \\\n",
       "Importance              0.001688          0.001584      0.001424   \n",
       "\n",
       "            RatingPhoneUsage  NightHours  DecelerationICount  \\\n",
       "Importance          0.001328    0.001242            0.001232   \n",
       "\n",
       "            RatingDeceleration  DistanceGPS  DecelerationIDuration  \\\n",
       "Importance            0.001188     0.001154               0.001017   \n",
       "\n",
       "            EcoScoringTyres  RatingAcceleration    Rating  RushHours  \\\n",
       "Importance         0.000928            0.000845  0.000828   0.000796   \n",
       "\n",
       "            RatingOverSpeed  KAcceleration  RatingTimeOfDay  CompanyId  \\\n",
       "Importance         0.000793       0.000727         0.000705   0.000556   \n",
       "\n",
       "            PhoneUsage  EcoScoringDepreciation  CorneringDuration  weekofyear  \\\n",
       "Importance     0.00051                0.000486            0.00044    0.000423   \n",
       "\n",
       "            PhoneUsageOverSpeedKm  DecelerationCount  is_month_start  \\\n",
       "Importance               0.000405           0.000355        0.000307   \n",
       "\n",
       "            days_in_month     month  is_quarter_start  quarter  \\\n",
       "Importance       0.000155  0.000154          0.000146  0.00013   \n",
       "\n",
       "            PhoneUsageOverSpeed  AccelerationCount  is_intercity    Urban  \\\n",
       "Importance             0.000116            0.00009      0.000086  0.00007   \n",
       "\n",
       "            CorneringCount  is_quarter_end  is_month_end  EcoScoringFuel  \\\n",
       "Importance        0.000043        0.000027      0.000016        0.000006   \n",
       "\n",
       "            KTimeOfDay   KPhoneUsage  EcoScoringBrakes  \n",
       "Importance    0.000001  4.927246e-10               0.0  "
      ]
     },
     "execution_count": 40,
     "metadata": {},
     "output_type": "execute_result"
    }
   ],
   "source": [
    "pd.DataFrame(data=model.feature_importances_, index=X.columns, columns=['Importance']).sort_values(by='Importance', ascending=False).transpose()"
   ]
  },
  {
   "cell_type": "markdown",
   "metadata": {},
   "source": [
    "Not so bad, but what happens, if we apply undersampling to balance our classes?"
   ]
  },
  {
   "cell_type": "code",
   "execution_count": 41,
   "metadata": {},
   "outputs": [],
   "source": [
    "tracks_sorted = tracks.sort_values(by='TrackOrigin')"
   ]
  },
  {
   "cell_type": "code",
   "execution_count": 42,
   "metadata": {},
   "outputs": [
    {
     "data": {
      "text/plain": [
       "3    324\n",
       "2    324\n",
       "1    324\n",
       "Name: TrackOrigin, dtype: int64"
      ]
     },
     "execution_count": 42,
     "metadata": {},
     "output_type": "execute_result"
    }
   ],
   "source": [
    "df_driver  = tracks_sorted.iloc[:2005,:].sample(324)\n",
    "df_passanger  = tracks_sorted.iloc[2005:3713,:].sample(324)\n",
    "df_taxi = tracks_sorted.iloc[3713:,:]\n",
    "tracks_balanced = pd.concat([df_driver, df_passanger, df_taxi])\n",
    "tracks_balanced.TrackOrigin.value_counts()"
   ]
  },
  {
   "cell_type": "code",
   "execution_count": 43,
   "metadata": {},
   "outputs": [
    {
     "name": "stdout",
     "output_type": "stream",
     "text": [
      "              precision    recall  f1-score   support\n",
      "\n",
      "           1       1.00      1.00      1.00        95\n",
      "           2       0.81      0.60      0.69       105\n",
      "           3       0.65      0.84      0.73        92\n",
      "\n",
      "    accuracy                           0.80       292\n",
      "   macro avg       0.82      0.81      0.81       292\n",
      "weighted avg       0.82      0.80      0.80       292\n",
      "\n",
      "Balanced acc.score: 0.8123188405797102\n"
     ]
    }
   ],
   "source": [
    "y = tracks_balanced.TrackOrigin\n",
    "X = tracks_balanced.drop('TrackOrigin', axis = 1)\n",
    "gbc = GradientBoostingClassifier(n_estimators=1000)\n",
    "X_train, X_test, y_train, y_test = train_test_split(X, y, test_size=0.3, random_state=42, shuffle=True)\n",
    "model = gbc.fit(X_train, y_train)\n",
    "print(classification_report(y_test,model.predict(X_test)))\n",
    "print('Balanced acc.score:',balanced_accuracy_score(y_test,model.predict(X_test)))"
   ]
  },
  {
   "cell_type": "code",
   "execution_count": 44,
   "metadata": {},
   "outputs": [
    {
     "data": {
      "text/html": [
       "<div>\n",
       "<style scoped>\n",
       "    .dataframe tbody tr th:only-of-type {\n",
       "        vertical-align: middle;\n",
       "    }\n",
       "\n",
       "    .dataframe tbody tr th {\n",
       "        vertical-align: top;\n",
       "    }\n",
       "\n",
       "    .dataframe thead th {\n",
       "        text-align: right;\n",
       "    }\n",
       "</style>\n",
       "<table border=\"1\" class=\"dataframe\">\n",
       "  <thead>\n",
       "    <tr style=\"text-align: right;\">\n",
       "      <th></th>\n",
       "      <th>OriginChanged</th>\n",
       "      <th>Country</th>\n",
       "      <th>CityStart</th>\n",
       "      <th>day</th>\n",
       "      <th>DeviationRatio</th>\n",
       "      <th>hour</th>\n",
       "      <th>AccelerationIDuration</th>\n",
       "      <th>DeviationMeters</th>\n",
       "      <th>OverSpeedMileage</th>\n",
       "      <th>dayofweek</th>\n",
       "      <th>dayofyear</th>\n",
       "      <th>DecelerationICount</th>\n",
       "      <th>KOverSpeed</th>\n",
       "      <th>Duration</th>\n",
       "      <th>Distance</th>\n",
       "      <th>AverageSpeed</th>\n",
       "      <th>KDeceleration</th>\n",
       "      <th>MaxSpeed</th>\n",
       "      <th>KAcceleration</th>\n",
       "      <th>DailyHours</th>\n",
       "      <th>AccelerationICount</th>\n",
       "      <th>os_version</th>\n",
       "      <th>RushHours</th>\n",
       "      <th>PhoneUsageKm</th>\n",
       "      <th>DistanceGPS</th>\n",
       "      <th>NightHours</th>\n",
       "      <th>MidOverSpeedMileage</th>\n",
       "      <th>RatingDeceleration</th>\n",
       "      <th>DecelerationCount</th>\n",
       "      <th>DecelerationIDuration</th>\n",
       "      <th>RatingAcceleration</th>\n",
       "      <th>HighOverSpeedMileage</th>\n",
       "      <th>Rating</th>\n",
       "      <th>EcoScoring</th>\n",
       "      <th>PhoneUsageOverSpeed</th>\n",
       "      <th>PhoneUsage</th>\n",
       "      <th>weekofyear</th>\n",
       "      <th>RatingTimeOfDay</th>\n",
       "      <th>RatingCornering</th>\n",
       "      <th>RatingOverSpeed</th>\n",
       "      <th>quarter</th>\n",
       "      <th>EcoScoringTyres</th>\n",
       "      <th>AccelerationCount</th>\n",
       "      <th>PhoneUsageOverSpeedKm</th>\n",
       "      <th>CompanyId</th>\n",
       "      <th>EcoScoringDepreciation</th>\n",
       "      <th>CorneringDuration</th>\n",
       "      <th>is_intercity</th>\n",
       "      <th>is_quarter_start</th>\n",
       "      <th>is_month_start</th>\n",
       "      <th>Urban</th>\n",
       "      <th>RatingPhoneUsage</th>\n",
       "      <th>EcoScoringFuel</th>\n",
       "      <th>CorneringCount</th>\n",
       "      <th>month</th>\n",
       "      <th>days_in_month</th>\n",
       "      <th>is_quarter_end</th>\n",
       "      <th>KPhoneUsage</th>\n",
       "      <th>KTimeOfDay</th>\n",
       "      <th>EcoScoringBrakes</th>\n",
       "      <th>is_month_end</th>\n",
       "    </tr>\n",
       "  </thead>\n",
       "  <tbody>\n",
       "    <tr>\n",
       "      <th>Importance</th>\n",
       "      <td>0.582726</td>\n",
       "      <td>0.197607</td>\n",
       "      <td>0.021336</td>\n",
       "      <td>0.015153</td>\n",
       "      <td>0.014473</td>\n",
       "      <td>0.014092</td>\n",
       "      <td>0.013496</td>\n",
       "      <td>0.010622</td>\n",
       "      <td>0.008548</td>\n",
       "      <td>0.008271</td>\n",
       "      <td>0.008255</td>\n",
       "      <td>0.00738</td>\n",
       "      <td>0.007342</td>\n",
       "      <td>0.00724</td>\n",
       "      <td>0.00667</td>\n",
       "      <td>0.00611</td>\n",
       "      <td>0.005514</td>\n",
       "      <td>0.005044</td>\n",
       "      <td>0.004586</td>\n",
       "      <td>0.004395</td>\n",
       "      <td>0.004158</td>\n",
       "      <td>0.003648</td>\n",
       "      <td>0.003346</td>\n",
       "      <td>0.003179</td>\n",
       "      <td>0.003089</td>\n",
       "      <td>0.003073</td>\n",
       "      <td>0.002896</td>\n",
       "      <td>0.002704</td>\n",
       "      <td>0.002593</td>\n",
       "      <td>0.002455</td>\n",
       "      <td>0.002351</td>\n",
       "      <td>0.002062</td>\n",
       "      <td>0.001986</td>\n",
       "      <td>0.00173</td>\n",
       "      <td>0.001675</td>\n",
       "      <td>0.001626</td>\n",
       "      <td>0.001556</td>\n",
       "      <td>0.001349</td>\n",
       "      <td>0.001297</td>\n",
       "      <td>0.000597</td>\n",
       "      <td>0.000568</td>\n",
       "      <td>0.000438</td>\n",
       "      <td>0.000424</td>\n",
       "      <td>0.000416</td>\n",
       "      <td>0.000415</td>\n",
       "      <td>0.000345</td>\n",
       "      <td>0.000261</td>\n",
       "      <td>0.000179</td>\n",
       "      <td>0.000168</td>\n",
       "      <td>0.000158</td>\n",
       "      <td>0.000117</td>\n",
       "      <td>0.000115</td>\n",
       "      <td>0.000102</td>\n",
       "      <td>0.000051</td>\n",
       "      <td>0.000012</td>\n",
       "      <td>0.000001</td>\n",
       "      <td>7.556155e-10</td>\n",
       "      <td>0.0</td>\n",
       "      <td>0.0</td>\n",
       "      <td>0.0</td>\n",
       "      <td>0.0</td>\n",
       "    </tr>\n",
       "  </tbody>\n",
       "</table>\n",
       "</div>"
      ],
      "text/plain": [
       "            OriginChanged   Country  CityStart       day  DeviationRatio  \\\n",
       "Importance       0.582726  0.197607   0.021336  0.015153        0.014473   \n",
       "\n",
       "                hour  AccelerationIDuration  DeviationMeters  \\\n",
       "Importance  0.014092               0.013496         0.010622   \n",
       "\n",
       "            OverSpeedMileage  dayofweek  dayofyear  DecelerationICount  \\\n",
       "Importance          0.008548   0.008271   0.008255             0.00738   \n",
       "\n",
       "            KOverSpeed  Duration  Distance  AverageSpeed  KDeceleration  \\\n",
       "Importance    0.007342   0.00724   0.00667       0.00611       0.005514   \n",
       "\n",
       "            MaxSpeed  KAcceleration  DailyHours  AccelerationICount  \\\n",
       "Importance  0.005044       0.004586    0.004395            0.004158   \n",
       "\n",
       "            os_version  RushHours  PhoneUsageKm  DistanceGPS  NightHours  \\\n",
       "Importance    0.003648   0.003346      0.003179     0.003089    0.003073   \n",
       "\n",
       "            MidOverSpeedMileage  RatingDeceleration  DecelerationCount  \\\n",
       "Importance             0.002896            0.002704           0.002593   \n",
       "\n",
       "            DecelerationIDuration  RatingAcceleration  HighOverSpeedMileage  \\\n",
       "Importance               0.002455            0.002351              0.002062   \n",
       "\n",
       "              Rating  EcoScoring  PhoneUsageOverSpeed  PhoneUsage  weekofyear  \\\n",
       "Importance  0.001986     0.00173             0.001675    0.001626    0.001556   \n",
       "\n",
       "            RatingTimeOfDay  RatingCornering  RatingOverSpeed   quarter  \\\n",
       "Importance         0.001349         0.001297         0.000597  0.000568   \n",
       "\n",
       "            EcoScoringTyres  AccelerationCount  PhoneUsageOverSpeedKm  \\\n",
       "Importance         0.000438           0.000424               0.000416   \n",
       "\n",
       "            CompanyId  EcoScoringDepreciation  CorneringDuration  \\\n",
       "Importance   0.000415                0.000345           0.000261   \n",
       "\n",
       "            is_intercity  is_quarter_start  is_month_start     Urban  \\\n",
       "Importance      0.000179          0.000168        0.000158  0.000117   \n",
       "\n",
       "            RatingPhoneUsage  EcoScoringFuel  CorneringCount     month  \\\n",
       "Importance          0.000115        0.000102        0.000051  0.000012   \n",
       "\n",
       "            days_in_month  is_quarter_end  KPhoneUsage  KTimeOfDay  \\\n",
       "Importance       0.000001    7.556155e-10          0.0         0.0   \n",
       "\n",
       "            EcoScoringBrakes  is_month_end  \n",
       "Importance               0.0           0.0  "
      ]
     },
     "execution_count": 44,
     "metadata": {},
     "output_type": "execute_result"
    }
   ],
   "source": [
    "pd.DataFrame(data=model.feature_importances_, index=X.columns, columns=['Importance']).sort_values(by='Importance', ascending=False).transpose()"
   ]
  },
  {
   "cell_type": "markdown",
   "metadata": {},
   "source": [
    "What if we increase the number of samples, allowing a slight imbalance between the groups?"
   ]
  },
  {
   "cell_type": "code",
   "execution_count": 45,
   "metadata": {},
   "outputs": [
    {
     "name": "stdout",
     "output_type": "stream",
     "text": [
      "              precision    recall  f1-score   support\n",
      "\n",
      "           1       1.00      1.00      1.00       162\n",
      "           2       0.80      0.78      0.79       174\n",
      "           3       0.60      0.64      0.62        92\n",
      "\n",
      "    accuracy                           0.83       428\n",
      "   macro avg       0.80      0.81      0.80       428\n",
      "weighted avg       0.83      0.83      0.83       428\n",
      "\n",
      "Balanced acc.score: 0.8057221389305348\n"
     ]
    }
   ],
   "source": [
    "df_driver  = tracks_sorted.iloc[:2005,:].sample(550)\n",
    "df_passanger  = tracks_sorted.iloc[2005:3713,:].sample(550)\n",
    "df_taxi = tracks_sorted.iloc[3713:,:]\n",
    "tracks_balanced = pd.concat([df_driver, df_passanger, df_taxi])\n",
    "tracks_balanced.TrackOrigin.value_counts()\n",
    "y = tracks_balanced.TrackOrigin\n",
    "X = tracks_balanced.drop('TrackOrigin', axis = 1)\n",
    "gbc = GradientBoostingClassifier(n_estimators=1000)\n",
    "X_train, X_test, y_train, y_test = train_test_split(X, y, test_size=0.3, random_state=42, shuffle=True)\n",
    "model = gbc.fit(X_train, y_train)\n",
    "print(classification_report(y_test,model.predict(X_test)))\n",
    "print('Balanced acc.score:',balanced_accuracy_score(y_test,model.predict(X_test)))"
   ]
  },
  {
   "cell_type": "code",
   "execution_count": 46,
   "metadata": {},
   "outputs": [
    {
     "data": {
      "text/html": [
       "<div>\n",
       "<style scoped>\n",
       "    .dataframe tbody tr th:only-of-type {\n",
       "        vertical-align: middle;\n",
       "    }\n",
       "\n",
       "    .dataframe tbody tr th {\n",
       "        vertical-align: top;\n",
       "    }\n",
       "\n",
       "    .dataframe thead th {\n",
       "        text-align: right;\n",
       "    }\n",
       "</style>\n",
       "<table border=\"1\" class=\"dataframe\">\n",
       "  <thead>\n",
       "    <tr style=\"text-align: right;\">\n",
       "      <th></th>\n",
       "      <th>OriginChanged</th>\n",
       "      <th>Country</th>\n",
       "      <th>CityStart</th>\n",
       "      <th>day</th>\n",
       "      <th>hour</th>\n",
       "      <th>AverageSpeed</th>\n",
       "      <th>dayofyear</th>\n",
       "      <th>DeviationMeters</th>\n",
       "      <th>MaxSpeed</th>\n",
       "      <th>CorneringDuration</th>\n",
       "      <th>dayofweek</th>\n",
       "      <th>DeviationRatio</th>\n",
       "      <th>Duration</th>\n",
       "      <th>RatingAcceleration</th>\n",
       "      <th>AccelerationIDuration</th>\n",
       "      <th>RushHours</th>\n",
       "      <th>AccelerationICount</th>\n",
       "      <th>os_version</th>\n",
       "      <th>HighOverSpeedMileage</th>\n",
       "      <th>RatingPhoneUsage</th>\n",
       "      <th>Rating</th>\n",
       "      <th>PhoneUsageKm</th>\n",
       "      <th>DecelerationICount</th>\n",
       "      <th>DistanceGPS</th>\n",
       "      <th>Distance</th>\n",
       "      <th>RatingCornering</th>\n",
       "      <th>NightHours</th>\n",
       "      <th>PhoneUsage</th>\n",
       "      <th>OverSpeedMileage</th>\n",
       "      <th>KAcceleration</th>\n",
       "      <th>RatingOverSpeed</th>\n",
       "      <th>MidOverSpeedMileage</th>\n",
       "      <th>DecelerationIDuration</th>\n",
       "      <th>KOverSpeed</th>\n",
       "      <th>KDeceleration</th>\n",
       "      <th>EcoScoringDepreciation</th>\n",
       "      <th>RatingDeceleration</th>\n",
       "      <th>is_intercity</th>\n",
       "      <th>DailyHours</th>\n",
       "      <th>RatingTimeOfDay</th>\n",
       "      <th>EcoScoring</th>\n",
       "      <th>CompanyId</th>\n",
       "      <th>weekofyear</th>\n",
       "      <th>EcoScoringTyres</th>\n",
       "      <th>PhoneUsageOverSpeed</th>\n",
       "      <th>AccelerationCount</th>\n",
       "      <th>Urban</th>\n",
       "      <th>PhoneUsageOverSpeedKm</th>\n",
       "      <th>DecelerationCount</th>\n",
       "      <th>quarter</th>\n",
       "      <th>CorneringCount</th>\n",
       "      <th>month</th>\n",
       "      <th>days_in_month</th>\n",
       "      <th>is_month_start</th>\n",
       "      <th>EcoScoringFuel</th>\n",
       "      <th>EcoScoringBrakes</th>\n",
       "      <th>KTimeOfDay</th>\n",
       "      <th>is_month_end</th>\n",
       "      <th>KPhoneUsage</th>\n",
       "      <th>is_quarter_end</th>\n",
       "      <th>is_quarter_start</th>\n",
       "    </tr>\n",
       "  </thead>\n",
       "  <tbody>\n",
       "    <tr>\n",
       "      <th>Importance</th>\n",
       "      <td>0.635037</td>\n",
       "      <td>0.162631</td>\n",
       "      <td>0.032337</td>\n",
       "      <td>0.026811</td>\n",
       "      <td>0.011901</td>\n",
       "      <td>0.010226</td>\n",
       "      <td>0.009401</td>\n",
       "      <td>0.007234</td>\n",
       "      <td>0.006875</td>\n",
       "      <td>0.005898</td>\n",
       "      <td>0.005333</td>\n",
       "      <td>0.004948</td>\n",
       "      <td>0.004856</td>\n",
       "      <td>0.004775</td>\n",
       "      <td>0.004539</td>\n",
       "      <td>0.004139</td>\n",
       "      <td>0.004063</td>\n",
       "      <td>0.004036</td>\n",
       "      <td>0.003923</td>\n",
       "      <td>0.003797</td>\n",
       "      <td>0.003366</td>\n",
       "      <td>0.003274</td>\n",
       "      <td>0.003267</td>\n",
       "      <td>0.003055</td>\n",
       "      <td>0.003002</td>\n",
       "      <td>0.002895</td>\n",
       "      <td>0.002671</td>\n",
       "      <td>0.002654</td>\n",
       "      <td>0.002388</td>\n",
       "      <td>0.002236</td>\n",
       "      <td>0.002088</td>\n",
       "      <td>0.001767</td>\n",
       "      <td>0.001682</td>\n",
       "      <td>0.001617</td>\n",
       "      <td>0.001608</td>\n",
       "      <td>0.001397</td>\n",
       "      <td>0.001272</td>\n",
       "      <td>0.001224</td>\n",
       "      <td>0.001209</td>\n",
       "      <td>0.00088</td>\n",
       "      <td>0.000833</td>\n",
       "      <td>0.000602</td>\n",
       "      <td>0.000551</td>\n",
       "      <td>0.000488</td>\n",
       "      <td>0.00027</td>\n",
       "      <td>0.000263</td>\n",
       "      <td>0.000197</td>\n",
       "      <td>0.000104</td>\n",
       "      <td>0.000092</td>\n",
       "      <td>0.000075</td>\n",
       "      <td>0.000072</td>\n",
       "      <td>0.000056</td>\n",
       "      <td>0.000046</td>\n",
       "      <td>0.00003</td>\n",
       "      <td>0.000006</td>\n",
       "      <td>0.0</td>\n",
       "      <td>0.0</td>\n",
       "      <td>0.0</td>\n",
       "      <td>0.0</td>\n",
       "      <td>0.0</td>\n",
       "      <td>0.0</td>\n",
       "    </tr>\n",
       "  </tbody>\n",
       "</table>\n",
       "</div>"
      ],
      "text/plain": [
       "            OriginChanged   Country  CityStart       day      hour  \\\n",
       "Importance       0.635037  0.162631   0.032337  0.026811  0.011901   \n",
       "\n",
       "            AverageSpeed  dayofyear  DeviationMeters  MaxSpeed  \\\n",
       "Importance      0.010226   0.009401         0.007234  0.006875   \n",
       "\n",
       "            CorneringDuration  dayofweek  DeviationRatio  Duration  \\\n",
       "Importance           0.005898   0.005333        0.004948  0.004856   \n",
       "\n",
       "            RatingAcceleration  AccelerationIDuration  RushHours  \\\n",
       "Importance            0.004775               0.004539   0.004139   \n",
       "\n",
       "            AccelerationICount  os_version  HighOverSpeedMileage  \\\n",
       "Importance            0.004063    0.004036              0.003923   \n",
       "\n",
       "            RatingPhoneUsage    Rating  PhoneUsageKm  DecelerationICount  \\\n",
       "Importance          0.003797  0.003366      0.003274            0.003267   \n",
       "\n",
       "            DistanceGPS  Distance  RatingCornering  NightHours  PhoneUsage  \\\n",
       "Importance     0.003055  0.003002         0.002895    0.002671    0.002654   \n",
       "\n",
       "            OverSpeedMileage  KAcceleration  RatingOverSpeed  \\\n",
       "Importance          0.002388       0.002236         0.002088   \n",
       "\n",
       "            MidOverSpeedMileage  DecelerationIDuration  KOverSpeed  \\\n",
       "Importance             0.001767               0.001682    0.001617   \n",
       "\n",
       "            KDeceleration  EcoScoringDepreciation  RatingDeceleration  \\\n",
       "Importance       0.001608                0.001397            0.001272   \n",
       "\n",
       "            is_intercity  DailyHours  RatingTimeOfDay  EcoScoring  CompanyId  \\\n",
       "Importance      0.001224    0.001209          0.00088    0.000833   0.000602   \n",
       "\n",
       "            weekofyear  EcoScoringTyres  PhoneUsageOverSpeed  \\\n",
       "Importance    0.000551         0.000488              0.00027   \n",
       "\n",
       "            AccelerationCount     Urban  PhoneUsageOverSpeedKm  \\\n",
       "Importance           0.000263  0.000197               0.000104   \n",
       "\n",
       "            DecelerationCount   quarter  CorneringCount     month  \\\n",
       "Importance           0.000092  0.000075        0.000072  0.000056   \n",
       "\n",
       "            days_in_month  is_month_start  EcoScoringFuel  EcoScoringBrakes  \\\n",
       "Importance       0.000046         0.00003        0.000006               0.0   \n",
       "\n",
       "            KTimeOfDay  is_month_end  KPhoneUsage  is_quarter_end  \\\n",
       "Importance         0.0           0.0          0.0             0.0   \n",
       "\n",
       "            is_quarter_start  \n",
       "Importance               0.0  "
      ]
     },
     "execution_count": 46,
     "metadata": {},
     "output_type": "execute_result"
    }
   ],
   "source": [
    "pd.DataFrame(data=model.feature_importances_, index=X.columns, columns=['Importance']).sort_values(by='Importance', ascending=False).transpose()"
   ]
  },
  {
   "cell_type": "markdown",
   "metadata": {},
   "source": [
    "I think we can to drop KPhoneUsage, KTimeOfDay, EcoScoringBrakes."
   ]
  },
  {
   "cell_type": "code",
   "execution_count": 47,
   "metadata": {},
   "outputs": [],
   "source": [
    "tracks_sorted.drop(['KTimeOfDay','KPhoneUsage', 'EcoScoringBrakes'], axis = 1, inplace=True)"
   ]
  },
  {
   "cell_type": "markdown",
   "metadata": {},
   "source": [
    "Now we can detect best balance between classes:"
   ]
  },
  {
   "cell_type": "code",
   "execution_count": 48,
   "metadata": {},
   "outputs": [
    {
     "data": {
      "image/png": "[encoded data removed]",
      "text/plain": [
       "<Figure size 864x360 with 1 Axes>"
      ]
     },
     "metadata": {
      "needs_background": "light"
     },
     "output_type": "display_data"
    }
   ],
   "source": [
    "x_points = []\n",
    "y_points = []\n",
    "for i in range(100,1001,50):\n",
    "    df_driver  = tracks_sorted.iloc[:2005,:].sample(i)\n",
    "    df_passanger  = tracks_sorted.iloc[2005:3713,:].sample(i)\n",
    "    df_taxi = tracks_sorted.iloc[3713:,:]\n",
    "    tracks_balanced = pd.concat([df_driver, df_passanger, df_taxi])\n",
    "    tracks_balanced.TrackOrigin.value_counts()\n",
    "    y = tracks_balanced.TrackOrigin\n",
    "    X = tracks_balanced.drop('TrackOrigin', axis = 1)\n",
    "    gbc = GradientBoostingClassifier(n_estimators=1000)\n",
    "    X_train, X_test, y_train, y_test = train_test_split(X, y, test_size=0.3, random_state=42, shuffle=True)\n",
    "    model = gbc.fit(X_train, y_train)\n",
    "    x_points.append(i)\n",
    "    y_points.append(balanced_accuracy_score(y_test,model.predict(X_test)))\n",
    "    \n",
    "plt.figure(figsize=(12, 5))\n",
    "plt.plot(x_points, y_points, label ='balanced_acc')\n",
    "plt.plot(x_points, pd.Series(y_points).rolling(window=5).mean(), label='rolling mean')\n",
    "plt.legend()\n",
    "plt.show()"
   ]
  },
  {
   "cell_type": "markdown",
   "metadata": {},
   "source": [
    "As we can see, the best result is achieved with a sample size in range (300; 450). I have chosen 375 as a means."
   ]
  },
  {
   "cell_type": "markdown",
   "metadata": {},
   "source": [
    "### Data scaling and splitting"
   ]
  },
  {
   "cell_type": "code",
   "execution_count": 49,
   "metadata": {},
   "outputs": [],
   "source": [
    "df_driver  = tracks_sorted.iloc[:2005,:].sample(375)\n",
    "df_passanger  = tracks_sorted.iloc[2005:3713,:].sample(375)\n",
    "df_taxi = tracks_sorted.iloc[3713:,:]\n",
    "tracks_balanced = pd.concat([df_driver, df_passanger, df_taxi])\n",
    "tracks_balanced.TrackOrigin.value_counts()\n",
    "y = tracks_balanced.TrackOrigin\n",
    "X = tracks_balanced.drop('TrackOrigin', axis = 1)\n",
    "X_scaled = MinMaxScaler().fit_transform(X)\n",
    "X_train, X_test, y_train, y_test = train_test_split(X_scaled, y, test_size=0.3, shuffle=True)"
   ]
  },
  {
   "cell_type": "markdown",
   "metadata": {},
   "source": [
    "I used MinMaxScaler because there are no many outliers."
   ]
  },
  {
   "cell_type": "markdown",
   "metadata": {},
   "source": [
    "## Model Selection"
   ]
  },
  {
   "cell_type": "code",
   "execution_count": 50,
   "metadata": {},
   "outputs": [
    {
     "name": "stdout",
     "output_type": "stream",
     "text": [
      "GradientBoostingClassifier:\n",
      "best_score_:0.8363475293611696\n",
      "best_params_:{'n_estimators': 2000}\n",
      "RandomForestClassifier:\n",
      "best_score_:0.8259473203792763\n",
      "best_params_:{'n_estimators': 1000}\n",
      "ExtraTreesClassifier:\n",
      "best_score_:0.7899866013281905\n",
      "best_params_:{'n_estimators': 1000}\n"
     ]
    }
   ],
   "source": [
    "gbc = GradientBoostingClassifier()\n",
    "params = {'n_estimators':[1000,2000]}\n",
    "model = GridSearchCV(gbc, param_grid=params, scoring='balanced_accuracy', cv=KFold(n_splits=15, shuffle = True), n_jobs=-1)\n",
    "model.fit(X_train, y_train)\n",
    "print('GradientBoostingClassifier:')\n",
    "print('best_score_:{}'.format(model.best_score_))\n",
    "print('best_params_:{}'.format(model.best_params_))\n",
    "\n",
    "rfc = RandomForestClassifier()\n",
    "params = {'n_estimators':[1000,2000]}\n",
    "model = GridSearchCV(rfc, param_grid=params, scoring='balanced_accuracy', cv=KFold(n_splits=15, shuffle = True), n_jobs=-1)\n",
    "model.fit(X_train, y_train)\n",
    "print('RandomForestClassifier:')\n",
    "print('best_score_:{}'.format(model.best_score_))\n",
    "print('best_params_:{}'.format(model.best_params_))\n",
    "\n",
    "etc = ExtraTreesClassifier()\n",
    "params = {'n_estimators':[1000,2000]}\n",
    "model = GridSearchCV(etc, param_grid=params, scoring='balanced_accuracy', cv=KFold(n_splits=15, shuffle = True), n_jobs=-1)\n",
    "model.fit(X_train, y_train)\n",
    "print('ExtraTreesClassifier:')\n",
    "print('best_score_:{}'.format(model.best_score_))\n",
    "print('best_params_:{}'.format(model.best_params_))"
   ]
  },
  {
   "cell_type": "markdown",
   "metadata": {},
   "source": [
    "RandomForestClassifier has a best score! Nice, now we need to tune hyperparameters."
   ]
  },
  {
   "cell_type": "markdown",
   "metadata": {},
   "source": [
    "### Model tuning"
   ]
  },
  {
   "cell_type": "code",
   "execution_count": 51,
   "metadata": {
    "scrolled": true
   },
   "outputs": [
    {
     "name": "stdout",
     "output_type": "stream",
     "text": [
      "best_score_:0.8336171930160579\n",
      "best_params_:{'max_features': 'auto', 'min_samples_leaf': 2, 'min_samples_split': 4, 'n_estimators': 2000}\n"
     ]
    }
   ],
   "source": [
    "rfc = RandomForestClassifier()\n",
    "params = {'n_estimators':[2000,2500,3000], 'min_samples_split':[2,3,4], 'min_samples_leaf':[2,3,4], 'max_features':['auto','log2']}\n",
    "model = GridSearchCV(rfc, param_grid=params, scoring='balanced_accuracy', cv=KFold(n_splits=15, shuffle = True), n_jobs=-1, verbose=0)\n",
    "model.fit(X_train, y_train)\n",
    "print('best_score_:{}'.format(model.best_score_))\n",
    "print('best_params_:{}'.format(model.best_params_))"
   ]
  },
  {
   "cell_type": "markdown",
   "metadata": {},
   "source": [
    "### Final model:"
   ]
  },
  {
   "cell_type": "code",
   "execution_count": 52,
   "metadata": {},
   "outputs": [
    {
     "name": "stdout",
     "output_type": "stream",
     "text": [
      "              precision    recall  f1-score   support\n",
      "\n",
      "           1       1.00      1.00      1.00       109\n",
      "           2       0.75      0.66      0.70       117\n",
      "           3       0.64      0.73      0.68        97\n",
      "\n",
      "    accuracy                           0.80       323\n",
      "   macro avg       0.80      0.80      0.79       323\n",
      "weighted avg       0.80      0.80      0.80       323\n",
      "\n",
      "Balanced acc.score: 0.7966928070020853\n"
     ]
    }
   ],
   "source": [
    "rfc = RandomForestClassifier(n_estimators=2500, max_features='auto', min_samples_leaf=3, \n",
    "                             min_samples_split=3, n_jobs=-1)\n",
    "rfc.fit(X_train, y_train)\n",
    "y_pred = rfc.predict(X_test)\n",
    "print(classification_report(y_test, y_pred))\n",
    "print('Balanced acc.score:',balanced_accuracy_score(y_test,y_pred))"
   ]
  },
  {
   "cell_type": "markdown",
   "metadata": {},
   "source": [
    "Thus, our final accuracy for multiple classifications is 0.8337, and for binary classification (driver or not) - 0.9915. \n",
    "This is not bad for such an unbalanced data set with missing values."
   ]
  },
  {
   "cell_type": "markdown",
   "metadata": {},
   "source": [
    "### Bonus "
   ]
  },
  {
   "cell_type": "markdown",
   "metadata": {},
   "source": [
    "As a bonus, I'll print the importances of features."
   ]
  },
  {
   "cell_type": "code",
   "execution_count": 53,
   "metadata": {},
   "outputs": [
    {
     "data": {
      "text/html": [
       "<div>\n",
       "<style scoped>\n",
       "    .dataframe tbody tr th:only-of-type {\n",
       "        vertical-align: middle;\n",
       "    }\n",
       "\n",
       "    .dataframe tbody tr th {\n",
       "        vertical-align: top;\n",
       "    }\n",
       "\n",
       "    .dataframe thead th {\n",
       "        text-align: right;\n",
       "    }\n",
       "</style>\n",
       "<table border=\"1\" class=\"dataframe\">\n",
       "  <thead>\n",
       "    <tr style=\"text-align: right;\">\n",
       "      <th></th>\n",
       "      <th>Importance</th>\n",
       "    </tr>\n",
       "  </thead>\n",
       "  <tbody>\n",
       "    <tr>\n",
       "      <th>OriginChanged</th>\n",
       "      <td>0.175882</td>\n",
       "    </tr>\n",
       "    <tr>\n",
       "      <th>dayofyear</th>\n",
       "      <td>0.097325</td>\n",
       "    </tr>\n",
       "    <tr>\n",
       "      <th>Country</th>\n",
       "      <td>0.082385</td>\n",
       "    </tr>\n",
       "    <tr>\n",
       "      <th>day</th>\n",
       "      <td>0.068486</td>\n",
       "    </tr>\n",
       "    <tr>\n",
       "      <th>weekofyear</th>\n",
       "      <td>0.058041</td>\n",
       "    </tr>\n",
       "    <tr>\n",
       "      <th>RatingCornering</th>\n",
       "      <td>0.057534</td>\n",
       "    </tr>\n",
       "    <tr>\n",
       "      <th>dayofweek</th>\n",
       "      <td>0.045863</td>\n",
       "    </tr>\n",
       "    <tr>\n",
       "      <th>CityStart</th>\n",
       "      <td>0.026547</td>\n",
       "    </tr>\n",
       "    <tr>\n",
       "      <th>hour</th>\n",
       "      <td>0.026178</td>\n",
       "    </tr>\n",
       "    <tr>\n",
       "      <th>month</th>\n",
       "      <td>0.018984</td>\n",
       "    </tr>\n",
       "    <tr>\n",
       "      <th>Rating</th>\n",
       "      <td>0.018630</td>\n",
       "    </tr>\n",
       "    <tr>\n",
       "      <th>quarter</th>\n",
       "      <td>0.016813</td>\n",
       "    </tr>\n",
       "    <tr>\n",
       "      <th>AverageSpeed</th>\n",
       "      <td>0.015558</td>\n",
       "    </tr>\n",
       "    <tr>\n",
       "      <th>DeviationMeters</th>\n",
       "      <td>0.014084</td>\n",
       "    </tr>\n",
       "    <tr>\n",
       "      <th>DeviationRatio</th>\n",
       "      <td>0.013437</td>\n",
       "    </tr>\n",
       "    <tr>\n",
       "      <th>MaxSpeed</th>\n",
       "      <td>0.013141</td>\n",
       "    </tr>\n",
       "    <tr>\n",
       "      <th>OverSpeedMileage</th>\n",
       "      <td>0.013134</td>\n",
       "    </tr>\n",
       "    <tr>\n",
       "      <th>KOverSpeed</th>\n",
       "      <td>0.013042</td>\n",
       "    </tr>\n",
       "    <tr>\n",
       "      <th>Distance</th>\n",
       "      <td>0.012754</td>\n",
       "    </tr>\n",
       "    <tr>\n",
       "      <th>DistanceGPS</th>\n",
       "      <td>0.012451</td>\n",
       "    </tr>\n",
       "    <tr>\n",
       "      <th>Duration</th>\n",
       "      <td>0.012392</td>\n",
       "    </tr>\n",
       "    <tr>\n",
       "      <th>AccelerationIDuration</th>\n",
       "      <td>0.012031</td>\n",
       "    </tr>\n",
       "    <tr>\n",
       "      <th>AccelerationICount</th>\n",
       "      <td>0.011833</td>\n",
       "    </tr>\n",
       "    <tr>\n",
       "      <th>CompanyId</th>\n",
       "      <td>0.011146</td>\n",
       "    </tr>\n",
       "    <tr>\n",
       "      <th>DailyHours</th>\n",
       "      <td>0.010631</td>\n",
       "    </tr>\n",
       "    <tr>\n",
       "      <th>KDeceleration</th>\n",
       "      <td>0.010496</td>\n",
       "    </tr>\n",
       "    <tr>\n",
       "      <th>KAcceleration</th>\n",
       "      <td>0.009284</td>\n",
       "    </tr>\n",
       "    <tr>\n",
       "      <th>MidOverSpeedMileage</th>\n",
       "      <td>0.009090</td>\n",
       "    </tr>\n",
       "    <tr>\n",
       "      <th>HighOverSpeedMileage</th>\n",
       "      <td>0.008521</td>\n",
       "    </tr>\n",
       "    <tr>\n",
       "      <th>DecelerationIDuration</th>\n",
       "      <td>0.008350</td>\n",
       "    </tr>\n",
       "    <tr>\n",
       "      <th>DecelerationICount</th>\n",
       "      <td>0.008005</td>\n",
       "    </tr>\n",
       "    <tr>\n",
       "      <th>RatingOverSpeed</th>\n",
       "      <td>0.007242</td>\n",
       "    </tr>\n",
       "    <tr>\n",
       "      <th>RatingDeceleration</th>\n",
       "      <td>0.007168</td>\n",
       "    </tr>\n",
       "    <tr>\n",
       "      <th>days_in_month</th>\n",
       "      <td>0.007028</td>\n",
       "    </tr>\n",
       "    <tr>\n",
       "      <th>EcoScoring</th>\n",
       "      <td>0.006678</td>\n",
       "    </tr>\n",
       "    <tr>\n",
       "      <th>PhoneUsageKm</th>\n",
       "      <td>0.006131</td>\n",
       "    </tr>\n",
       "    <tr>\n",
       "      <th>PhoneUsage</th>\n",
       "      <td>0.005740</td>\n",
       "    </tr>\n",
       "    <tr>\n",
       "      <th>os_version</th>\n",
       "      <td>0.005614</td>\n",
       "    </tr>\n",
       "    <tr>\n",
       "      <th>RatingAcceleration</th>\n",
       "      <td>0.004972</td>\n",
       "    </tr>\n",
       "    <tr>\n",
       "      <th>RushHours</th>\n",
       "      <td>0.004895</td>\n",
       "    </tr>\n",
       "    <tr>\n",
       "      <th>RatingTimeOfDay</th>\n",
       "      <td>0.004582</td>\n",
       "    </tr>\n",
       "    <tr>\n",
       "      <th>DecelerationCount</th>\n",
       "      <td>0.004262</td>\n",
       "    </tr>\n",
       "    <tr>\n",
       "      <th>EcoScoringDepreciation</th>\n",
       "      <td>0.004074</td>\n",
       "    </tr>\n",
       "    <tr>\n",
       "      <th>RatingPhoneUsage</th>\n",
       "      <td>0.003710</td>\n",
       "    </tr>\n",
       "    <tr>\n",
       "      <th>AccelerationCount</th>\n",
       "      <td>0.003365</td>\n",
       "    </tr>\n",
       "    <tr>\n",
       "      <th>is_intercity</th>\n",
       "      <td>0.002690</td>\n",
       "    </tr>\n",
       "    <tr>\n",
       "      <th>Urban</th>\n",
       "      <td>0.002658</td>\n",
       "    </tr>\n",
       "    <tr>\n",
       "      <th>NightHours</th>\n",
       "      <td>0.002471</td>\n",
       "    </tr>\n",
       "    <tr>\n",
       "      <th>EcoScoringFuel</th>\n",
       "      <td>0.001610</td>\n",
       "    </tr>\n",
       "    <tr>\n",
       "      <th>EcoScoringTyres</th>\n",
       "      <td>0.000707</td>\n",
       "    </tr>\n",
       "    <tr>\n",
       "      <th>PhoneUsageOverSpeedKm</th>\n",
       "      <td>0.000640</td>\n",
       "    </tr>\n",
       "    <tr>\n",
       "      <th>CorneringDuration</th>\n",
       "      <td>0.000560</td>\n",
       "    </tr>\n",
       "    <tr>\n",
       "      <th>PhoneUsageOverSpeed</th>\n",
       "      <td>0.000528</td>\n",
       "    </tr>\n",
       "    <tr>\n",
       "      <th>CorneringCount</th>\n",
       "      <td>0.000472</td>\n",
       "    </tr>\n",
       "    <tr>\n",
       "      <th>is_quarter_start</th>\n",
       "      <td>0.000055</td>\n",
       "    </tr>\n",
       "    <tr>\n",
       "      <th>is_month_start</th>\n",
       "      <td>0.000053</td>\n",
       "    </tr>\n",
       "    <tr>\n",
       "      <th>is_month_end</th>\n",
       "      <td>0.000028</td>\n",
       "    </tr>\n",
       "    <tr>\n",
       "      <th>is_quarter_end</th>\n",
       "      <td>0.000018</td>\n",
       "    </tr>\n",
       "  </tbody>\n",
       "</table>\n",
       "</div>"
      ],
      "text/plain": [
       "                        Importance\n",
       "OriginChanged             0.175882\n",
       "dayofyear                 0.097325\n",
       "Country                   0.082385\n",
       "day                       0.068486\n",
       "weekofyear                0.058041\n",
       "RatingCornering           0.057534\n",
       "dayofweek                 0.045863\n",
       "CityStart                 0.026547\n",
       "hour                      0.026178\n",
       "month                     0.018984\n",
       "Rating                    0.018630\n",
       "quarter                   0.016813\n",
       "AverageSpeed              0.015558\n",
       "DeviationMeters           0.014084\n",
       "DeviationRatio            0.013437\n",
       "MaxSpeed                  0.013141\n",
       "OverSpeedMileage          0.013134\n",
       "KOverSpeed                0.013042\n",
       "Distance                  0.012754\n",
       "DistanceGPS               0.012451\n",
       "Duration                  0.012392\n",
       "AccelerationIDuration     0.012031\n",
       "AccelerationICount        0.011833\n",
       "CompanyId                 0.011146\n",
       "DailyHours                0.010631\n",
       "KDeceleration             0.010496\n",
       "KAcceleration             0.009284\n",
       "MidOverSpeedMileage       0.009090\n",
       "HighOverSpeedMileage      0.008521\n",
       "DecelerationIDuration     0.008350\n",
       "DecelerationICount        0.008005\n",
       "RatingOverSpeed           0.007242\n",
       "RatingDeceleration        0.007168\n",
       "days_in_month             0.007028\n",
       "EcoScoring                0.006678\n",
       "PhoneUsageKm              0.006131\n",
       "PhoneUsage                0.005740\n",
       "os_version                0.005614\n",
       "RatingAcceleration        0.004972\n",
       "RushHours                 0.004895\n",
       "RatingTimeOfDay           0.004582\n",
       "DecelerationCount         0.004262\n",
       "EcoScoringDepreciation    0.004074\n",
       "RatingPhoneUsage          0.003710\n",
       "AccelerationCount         0.003365\n",
       "is_intercity              0.002690\n",
       "Urban                     0.002658\n",
       "NightHours                0.002471\n",
       "EcoScoringFuel            0.001610\n",
       "EcoScoringTyres           0.000707\n",
       "PhoneUsageOverSpeedKm     0.000640\n",
       "CorneringDuration         0.000560\n",
       "PhoneUsageOverSpeed       0.000528\n",
       "CorneringCount            0.000472\n",
       "is_quarter_start          0.000055\n",
       "is_month_start            0.000053\n",
       "is_month_end              0.000028\n",
       "is_quarter_end            0.000018"
      ]
     },
     "execution_count": 53,
     "metadata": {},
     "output_type": "execute_result"
    }
   ],
   "source": [
    "pd.DataFrame(data=rfc.feature_importances_, index=X.columns, columns=['Importance']).sort_values(by='Importance', ascending=False)"
   ]
  },
  {
   "cell_type": "code",
   "execution_count": null,
   "metadata": {},
   "outputs": [],
   "source": []
  }
 ],
 "metadata": {
  "kernelspec": {
   "display_name": "Python 3",
   "language": "python",
   "name": "python3"
  },
  "language_info": {
   "codemirror_mode": {
    "name": "ipython",
    "version": 3
   },
   "file_extension": ".py",
   "mimetype": "text/x-python",
   "name": "python",
   "nbconvert_exporter": "python",
   "pygments_lexer": "ipython3",
   "version": "3.6.9"
  }
 },
 "nbformat": 4,
 "nbformat_minor": 4
}
